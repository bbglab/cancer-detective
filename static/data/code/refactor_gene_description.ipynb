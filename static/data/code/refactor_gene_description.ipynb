{
 "cells": [
  {
   "cell_type": "markdown",
   "metadata": {},
   "source": [
    "# Reformat gene descriptions from BioMart"
   ]
  },
  {
   "cell_type": "code",
   "execution_count": 1,
   "metadata": {
    "collapsed": true
   },
   "outputs": [],
   "source": [
    "import os"
   ]
  },
  {
   "cell_type": "code",
   "execution_count": 2,
   "metadata": {
    "collapsed": true
   },
   "outputs": [],
   "source": [
    "input_f = './../biomart/gene_description_biomart_20211217.txt'\n",
    "output_f = './../biomart/gene_description_biomart_20211217_reformat.txt'"
   ]
  },
  {
   "cell_type": "code",
   "execution_count": 21,
   "metadata": {},
   "outputs": [],
   "source": [
    "with open(output_f, 'w') as ofd: \n",
    "    ofd.write('{}\\n'.format('\\t'.join(['SYMBOL', 'DESCRIPTION'])))\n",
    "    with open(input_f, 'r') as fd: \n",
    "        next(fd)\n",
    "        for line in fd: \n",
    "            try: \n",
    "                description, symbol = line.strip().split('\\t')\n",
    "                # Remove annotation origin\n",
    "                description = description.split('[')[0][:-1]\n",
    "                # First letter upper case\n",
    "                description = description[0].upper() + description[1:]\n",
    "                # Write\n",
    "                ofd.write('{}\\n'.format('\\t'.join([symbol, description])))\n",
    "\n",
    "            except ValueError: \n",
    "                # Skip pseudogenes, novel transcripts, antisense transcripts and empty lines\n",
    "                continue"
   ]
  }
 ],
 "metadata": {
  "kernelspec": {
   "display_name": "Python [default]",
   "language": "python",
   "name": "python3"
  },
  "language_info": {
   "codemirror_mode": {
    "name": "ipython",
    "version": 3
   },
   "file_extension": ".py",
   "mimetype": "text/x-python",
   "name": "python",
   "nbconvert_exporter": "python",
   "pygments_lexer": "ipython3",
   "version": "3.6.6"
  }
 },
 "nbformat": 4,
 "nbformat_minor": 2
}
