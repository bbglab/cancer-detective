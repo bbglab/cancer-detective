{
 "cells": [
  {
   "cell_type": "markdown",
   "metadata": {},
   "source": [
    "# Create database of mutations"
   ]
  },
  {
   "cell_type": "code",
   "execution_count": 1,
   "metadata": {
    "collapsed": true
   },
   "outputs": [],
   "source": [
    "import os\n",
    "from collections import defaultdict\n",
    "import gzip\n",
    "\n",
    "import bgreference\n",
    "import numpy as np\n",
    "import pandas as pd"
   ]
  },
  {
   "cell_type": "markdown",
   "metadata": {},
   "source": [
    "#### Input files"
   ]
  },
  {
   "cell_type": "code",
   "execution_count": 2,
   "metadata": {
    "collapsed": true
   },
   "outputs": [],
   "source": [
    "boostdm_dir = './../boostDM/boostDM-intogen-prediction/'\n",
    "intogen_drivers_f = './../intogen/IntOGen-Drivers-20200201_Compendium_Cancer_Genes.tsv'\n",
    "intogen_negative_f = './../intogen/intOGen-20191022_Negative_gene_set.tsv'\n",
    "vep_dir = '/workspace/projects/intogen_2017/runs/20200102/vep'\n",
    "cgi_biomarkers_f = './../CGI/selected_biomarkers.tsv'"
   ]
  },
  {
   "cell_type": "markdown",
   "metadata": {},
   "source": [
    "#### Output file"
   ]
  },
  {
   "cell_type": "code",
   "execution_count": 3,
   "metadata": {
    "collapsed": true
   },
   "outputs": [],
   "source": [
    "output_file = './mutations_db.tsv.gz'"
   ]
  },
  {
   "cell_type": "markdown",
   "metadata": {},
   "source": [
    "#### Other input data"
   ]
  },
  {
   "cell_type": "code",
   "execution_count": 4,
   "metadata": {
    "collapsed": true
   },
   "outputs": [],
   "source": [
    "cancer_types = {\n",
    "    'skin': ['CM', 'SCCC', 'SBCC'], \n",
    "    'lung': ['NSCLC', 'LUSC', 'LUAD', 'SCLC']\n",
    "}"
   ]
  },
  {
   "cell_type": "code",
   "execution_count": 5,
   "metadata": {
    "collapsed": true
   },
   "outputs": [],
   "source": [
    "cancer_types = dict([(ct_specific, ct_general) for ct_general, v in cancer_types.items() for ct_specific in list(v)])"
   ]
  },
  {
   "cell_type": "code",
   "execution_count": 6,
   "metadata": {
    "scrolled": true
   },
   "outputs": [
    {
     "data": {
      "text/plain": [
       "{'CM': 'skin',\n",
       " 'SCCC': 'skin',\n",
       " 'SBCC': 'skin',\n",
       " 'NSCLC': 'lung',\n",
       " 'LUSC': 'lung',\n",
       " 'LUAD': 'lung',\n",
       " 'SCLC': 'lung'}"
      ]
     },
     "execution_count": 6,
     "metadata": {},
     "output_type": "execute_result"
    }
   ],
   "source": [
    "cancer_types"
   ]
  },
  {
   "cell_type": "markdown",
   "metadata": {},
   "source": [
    "## Mutations DB"
   ]
  },
  {
   "cell_type": "code",
   "execution_count": 7,
   "metadata": {
    "collapsed": true
   },
   "outputs": [],
   "source": [
    "# Object to load\n",
    "mutations_info = defaultdict(lambda: defaultdict(dict))"
   ]
  },
  {
   "cell_type": "markdown",
   "metadata": {},
   "source": [
    "#### 1) Load CGI biomarkers"
   ]
  },
  {
   "cell_type": "code",
   "execution_count": 8,
   "metadata": {
    "collapsed": true
   },
   "outputs": [],
   "source": [
    "biomarkers_df = pd.read_csv(cgi_biomarkers_f, sep='\\t', header=0)"
   ]
  },
  {
   "cell_type": "code",
   "execution_count": 9,
   "metadata": {
    "collapsed": true
   },
   "outputs": [],
   "source": [
    "biomarkers_df['cancer_type_general'] = biomarkers_df.apply(lambda x: cancer_types.get(x['Primary Tumor type'], 'NAN'), axis=1)"
   ]
  },
  {
   "cell_type": "code",
   "execution_count": 10,
   "metadata": {
    "scrolled": true
   },
   "outputs": [
    {
     "data": {
      "text/html": [
       "<div>\n",
       "<style scoped>\n",
       "    .dataframe tbody tr th:only-of-type {\n",
       "        vertical-align: middle;\n",
       "    }\n",
       "\n",
       "    .dataframe tbody tr th {\n",
       "        vertical-align: top;\n",
       "    }\n",
       "\n",
       "    .dataframe thead th {\n",
       "        text-align: right;\n",
       "    }\n",
       "</style>\n",
       "<table border=\"1\" class=\"dataframe\">\n",
       "  <thead>\n",
       "    <tr style=\"text-align: right;\">\n",
       "      <th></th>\n",
       "      <th>Biomarker</th>\n",
       "      <th>Gene</th>\n",
       "      <th>Alteration</th>\n",
       "      <th>Drug</th>\n",
       "      <th>Primary Tumor type</th>\n",
       "      <th>Inhibitor type</th>\n",
       "      <th>Approved</th>\n",
       "      <th>cancer_type_general</th>\n",
       "    </tr>\n",
       "  </thead>\n",
       "  <tbody>\n",
       "    <tr>\n",
       "      <th>0</th>\n",
       "      <td>ALK_E1408V</td>\n",
       "      <td>ALK</td>\n",
       "      <td>E1408V</td>\n",
       "      <td>Brigatinib</td>\n",
       "      <td>LUAD</td>\n",
       "      <td>Pan-TK inhibitor</td>\n",
       "      <td>False</td>\n",
       "      <td>lung</td>\n",
       "    </tr>\n",
       "    <tr>\n",
       "      <th>1</th>\n",
       "      <td>ALK_L1196M</td>\n",
       "      <td>ALK</td>\n",
       "      <td>L1196M</td>\n",
       "      <td>Brigatinib</td>\n",
       "      <td>LUAD</td>\n",
       "      <td>Pan-TK inhibitor</td>\n",
       "      <td>False</td>\n",
       "      <td>lung</td>\n",
       "    </tr>\n",
       "    <tr>\n",
       "      <th>2</th>\n",
       "      <td>ALK_S1206Y</td>\n",
       "      <td>ALK</td>\n",
       "      <td>S1206Y</td>\n",
       "      <td>Ceritinib</td>\n",
       "      <td>LUAD</td>\n",
       "      <td>ALK inhibitor</td>\n",
       "      <td>False</td>\n",
       "      <td>lung</td>\n",
       "    </tr>\n",
       "    <tr>\n",
       "      <th>3</th>\n",
       "      <td>ALK_G1269A</td>\n",
       "      <td>ALK</td>\n",
       "      <td>G1269A</td>\n",
       "      <td>Ceritinib</td>\n",
       "      <td>LUAD</td>\n",
       "      <td>ALK inhibitor</td>\n",
       "      <td>False</td>\n",
       "      <td>lung</td>\n",
       "    </tr>\n",
       "    <tr>\n",
       "      <th>4</th>\n",
       "      <td>ALK_I1171T</td>\n",
       "      <td>ALK</td>\n",
       "      <td>I1171T</td>\n",
       "      <td>Ceritinib</td>\n",
       "      <td>LUAD</td>\n",
       "      <td>ALK inhibitor</td>\n",
       "      <td>False</td>\n",
       "      <td>lung</td>\n",
       "    </tr>\n",
       "  </tbody>\n",
       "</table>\n",
       "</div>"
      ],
      "text/plain": [
       "    Biomarker Gene Alteration        Drug Primary Tumor type  \\\n",
       "0  ALK_E1408V  ALK     E1408V  Brigatinib               LUAD   \n",
       "1  ALK_L1196M  ALK     L1196M  Brigatinib               LUAD   \n",
       "2  ALK_S1206Y  ALK     S1206Y   Ceritinib               LUAD   \n",
       "3  ALK_G1269A  ALK     G1269A   Ceritinib               LUAD   \n",
       "4  ALK_I1171T  ALK     I1171T   Ceritinib               LUAD   \n",
       "\n",
       "     Inhibitor type  Approved cancer_type_general  \n",
       "0  Pan-TK inhibitor     False                lung  \n",
       "1  Pan-TK inhibitor     False                lung  \n",
       "2     ALK inhibitor     False                lung  \n",
       "3     ALK inhibitor     False                lung  \n",
       "4     ALK inhibitor     False                lung  "
      ]
     },
     "execution_count": 10,
     "metadata": {},
     "output_type": "execute_result"
    }
   ],
   "source": [
    "biomarkers_df.head()"
   ]
  },
  {
   "cell_type": "code",
   "execution_count": 11,
   "metadata": {},
   "outputs": [
    {
     "data": {
      "text/plain": [
       "55"
      ]
     },
     "execution_count": 11,
     "metadata": {},
     "output_type": "execute_result"
    }
   ],
   "source": [
    "len(biomarkers_df['Biomarker'].unique())"
   ]
  },
  {
   "cell_type": "code",
   "execution_count": 12,
   "metadata": {
    "scrolled": true
   },
   "outputs": [
    {
     "data": {
      "text/plain": [
       "2"
      ]
     },
     "execution_count": 12,
     "metadata": {},
     "output_type": "execute_result"
    }
   ],
   "source": [
    "len(biomarkers_df.loc[biomarkers_df['Approved'] == True]['Biomarker'].unique())"
   ]
  },
  {
   "cell_type": "markdown",
   "metadata": {},
   "source": [
    "#### 2) Get driver mutations from boostDM"
   ]
  },
  {
   "cell_type": "markdown",
   "metadata": {},
   "source": [
    "Comments: \n",
    "    \n",
    "- Truncating mutations are skipped\n",
    "- Mutations with AA change not available (nan) are skipped\n",
    "- Biomarkers with unkwown drug are labeled as therapy 'None'"
   ]
  },
  {
   "cell_type": "code",
   "execution_count": 13,
   "metadata": {
    "collapsed": true
   },
   "outputs": [],
   "source": [
    "# Identify cohorts with the cancer_types of interest\n",
    "for file in os.scandir(boostdm_dir): \n",
    "    if file.name.split('.')[1] in set(cancer_types.keys()): \n",
    "        \n",
    "        # Cancer type in data \n",
    "        cancer_type_specific = file.name.split('.')[1]\n",
    "        cancer_type_general = cancer_types[cancer_type_specific]\n",
    "        \n",
    "        # Read df\n",
    "        df = pd.read_csv(file.path, sep='\\t', header=0)\n",
    "        \n",
    "        # Subset driver mutations\n",
    "        df_drivers = df.loc[df['boostDM_class'] == True].copy()\n",
    "        median_boostdm_score = df_drivers['boostDM_score'].describe()['50%']\n",
    "        \n",
    "        # Save information\n",
    "        for _, row in df_drivers.iterrows(): \n",
    "            \n",
    "            # If missense mutation \n",
    "            # If BoostDM score above the median (higher driver evidence)\n",
    "            if row['csqn_type_missense'] and row['boostDM_score'] >= median_boostdm_score: \n",
    "                \n",
    "                # If AA change is not nan\n",
    "                if row['aachange'] == row['aachange']: \n",
    "                                                                      \n",
    "                    # Mutation id (BRAF_V600E)\n",
    "                    mutation_id = f\"{row['gene']}_{row['aachange']}\"\n",
    "                    \n",
    "                    # Gene\n",
    "                    mutations_info[cancer_type_general][mutation_id]['gene'] = row['gene']\n",
    "                    \n",
    "                    # Cancer type\n",
    "                    mutations_info[cancer_type_general][mutation_id]['cancer_type_specific'] = cancer_type_specific\n",
    "                    mutations_info[cancer_type_general][mutation_id]['cancer_type_general'] = cancer_type_general\n",
    "                    \n",
    "                    # AA change\n",
    "                    mutations_info[cancer_type_general][mutation_id]['aachange'] = row['aachange']\n",
    "                   \n",
    "                    # Nucleotide change\n",
    "                    chrom = row['chr']\n",
    "                    pos = row['pos']\n",
    "                    ref = bgreference.refseq('hg38', chrom, pos, 1)\n",
    "                    alt = row['alt']\n",
    "                    mutations_info[cancer_type_general][mutation_id]['nuchange'] = f'chr{chrom}:{pos}_{ref}>{alt}'\n",
    "                    \n",
    "                    # Driver or passenger\n",
    "                    mutations_info[cancer_type_general][mutation_id]['driver_passenger'] = 'driver'\n",
    "                    \n",
    "                    # Oncogene or tumor suppresor gene\n",
    "                    if row['role_Act'] == 1: \n",
    "                        role = 'og'\n",
    "                    elif row['role_LoF'] == 1: \n",
    "                        role = 'tsg'\n",
    "                    else:\n",
    "                        role = 'unknown'\n",
    "                    mutations_info[cancer_type_general][mutation_id]['og_tsg'] = role\n",
    "                    \n",
    "                    # Targeted therapy\n",
    "                    # Select mutation in the cancer type\n",
    "                    biomarker_info_df = biomarkers_df.loc[\n",
    "                        (biomarkers_df['Biomarker'] == mutation_id) & \n",
    "                        (biomarkers_df['cancer_type_general'] == cancer_type_general)\n",
    "                    ]\n",
    "                    # If mutation is biomarker\n",
    "                    # Drug is approved or not\n",
    "                    if len(biomarker_info_df) > 0: \n",
    "                        mutations_info[cancer_type_general][mutation_id]['targeted_therapy'] = biomarker_info_df['Drug'].iloc[0]\n",
    "                        mutations_info[cancer_type_general][mutation_id]['targeted_therapy_approved'] = biomarker_info_df['Approved'].iloc[0]\n",
    "\n",
    "                    else: \n",
    "                        mutations_info[cancer_type_general][mutation_id]['targeted_therapy'] = 'None'\n",
    "                        mutations_info[cancer_type_general][mutation_id]['targeted_therapy_approved'] = False"
   ]
  },
  {
   "cell_type": "code",
   "execution_count": 14,
   "metadata": {},
   "outputs": [
    {
     "data": {
      "text/plain": [
       "529"
      ]
     },
     "execution_count": 14,
     "metadata": {},
     "output_type": "execute_result"
    }
   ],
   "source": [
    "len(mutations_info['lung']) # 5334"
   ]
  },
  {
   "cell_type": "code",
   "execution_count": 15,
   "metadata": {
    "scrolled": true
   },
   "outputs": [
    {
     "data": {
      "text/plain": [
       "515"
      ]
     },
     "execution_count": 15,
     "metadata": {},
     "output_type": "execute_result"
    }
   ],
   "source": [
    "len(mutations_info['skin']) #3642"
   ]
  },
  {
   "cell_type": "markdown",
   "metadata": {},
   "source": [
    "#### 3) Get passenger mutations from negative genes in intOGen"
   ]
  },
  {
   "cell_type": "markdown",
   "metadata": {},
   "source": [
    "Comments: \n",
    "    \n",
    "- Passengers OG or TSG role: unkwnown"
   ]
  },
  {
   "cell_type": "code",
   "execution_count": 16,
   "metadata": {
    "collapsed": true
   },
   "outputs": [],
   "source": [
    "# New names for cancer types are required\n",
    "cancer_types_v2 = {\n",
    "    'SKCM': 'skin', \n",
    "    'LUSC': 'lung', \n",
    "    'LUAD': 'lung'\n",
    "}"
   ]
  },
  {
   "cell_type": "code",
   "execution_count": 17,
   "metadata": {
    "scrolled": false
   },
   "outputs": [
    {
     "name": "stderr",
     "output_type": "stream",
     "text": [
      "/home/carnedo/anaconda3/envs/hotspots_framework/lib/python3.6/site-packages/IPython/core/interactiveshell.py:3063: DtypeWarning: Columns (15) have mixed types.Specify dtype option on import or set low_memory=False.\n",
      "  interactivity=interactivity, compiler=compiler, result=result)\n"
     ]
    }
   ],
   "source": [
    "# Read negatives df\n",
    "negatives_df = pd.read_csv(intogen_negative_f, sep='\\t', header=None)\n",
    "\n",
    "for cancer_type_specific, cancer_type_general in cancer_types_v2.items(): \n",
    "    \n",
    "    # Number of passenger genes per cancer type\n",
    "    total_number_passenger_genes = 100 if cancer_type_specific == 'SKCM' else 50\n",
    "    \n",
    "    # Get VEP info\n",
    "    # Get only missense\n",
    "    vep_f = os.path.join(vep_dir, f'TCGA_WXS_{cancer_type_specific}.out.gz')\n",
    "    vep_df = pd.read_csv(vep_f, sep='\\t', header=0)\n",
    "    vep_df = vep_df.loc[vep_df['Consequence'] == 'missense_variant'].copy()\n",
    "    vep_genes = set(vep_df['SYMBOL'].unique())\n",
    "    \n",
    "    # Get cancer type negative genes\n",
    "    # Get half of passenger genes from olfactory receptors and the other half from non olfactory receptors\n",
    "    negatives_ctype_df = negatives_df.loc[negatives_df[0] == cancer_type_specific].copy()\n",
    "    negative_genes = set(negatives_ctype_df[1].iloc[0].split(','))\n",
    "    # Split ORs and non-ORs\n",
    "    olfactory_receptors = set([gene for gene in negative_genes if gene.startswith('OR')])\n",
    "    non_olfactory_receptors = negative_genes.difference(olfactory_receptors)\n",
    "    # Intersect with genes in VEP\n",
    "    olfactory_receptors.intersection_update(vep_genes)\n",
    "    non_olfactory_receptors.intersection_update(vep_genes)\n",
    "    # Randomly choose the desired number\n",
    "    olfactory_receptors = np.random.choice(list(olfactory_receptors), total_number_passenger_genes // 2)\n",
    "    non_olfactory_receptors = np.random.choice(list(non_olfactory_receptors), total_number_passenger_genes // 2)\n",
    "    \n",
    "    # Iterate through genes\n",
    "    # Save one mutation per gene\n",
    "    for gene in list(olfactory_receptors) + list(non_olfactory_receptors): \n",
    "        # Get first mutation\n",
    "        gene_vep_df = vep_df.loc[vep_df['SYMBOL'] == gene].iloc[0]\n",
    "\n",
    "        # AA change\n",
    "        prot_pos = gene_vep_df['Protein_position']\n",
    "        aa_ref, aa_alt = gene_vep_df['Amino_acids'].split('/')\n",
    "        aachange = aa_ref + prot_pos + aa_alt\n",
    "\n",
    "        # Mutation id (BRAF_V600E)\n",
    "        mutation_id = f\"{gene}_{aachange}\"\n",
    "\n",
    "        # Gene\n",
    "        mutations_info[cancer_type_general][mutation_id]['gene'] = gene\n",
    "\n",
    "        # Cancer type\n",
    "        mutations_info[cancer_type_general][mutation_id]['cancer_type_specific'] = cancer_type_specific\n",
    "        mutations_info[cancer_type_general][mutation_id]['cancer_type_general'] = cancer_type_general\n",
    "\n",
    "        # AA change\n",
    "        mutations_info[cancer_type_general][mutation_id]['aachange'] = aachange\n",
    "\n",
    "        # Nucleotide change\n",
    "        chrom_pos = gene_vep_df['Location']\n",
    "        _, _, ref, alt = gene_vep_df['#Uploaded_variation'].split('__')\n",
    "        mutations_info[cancer_type_general][mutation_id]['nuchange'] = f'chr{chrom_pos}_{ref}>{alt}'\n",
    "\n",
    "        # Driver or passenger\n",
    "        mutations_info[cancer_type_general][mutation_id]['driver_passenger'] = 'passenger'\n",
    "\n",
    "        # Oncogene or tumor suppresor gene\n",
    "        mutations_info[cancer_type_general][mutation_id]['og_tsg'] = 'unknown'\n",
    "\n",
    "        # Targeted therapy\n",
    "        # Select mutation in the cancer type\n",
    "        mutations_info[cancer_type_general][mutation_id]['targeted_therapy'] = 'None'\n",
    "\n",
    "        # Drug is approved or not\n",
    "        mutations_info[cancer_type_general][mutation_id]['targeted_therapy_approved'] = False"
   ]
  },
  {
   "cell_type": "code",
   "execution_count": 18,
   "metadata": {},
   "outputs": [
    {
     "data": {
      "text/plain": [
       "628"
      ]
     },
     "execution_count": 18,
     "metadata": {},
     "output_type": "execute_result"
    }
   ],
   "source": [
    "len(mutations_info['lung']) "
   ]
  },
  {
   "cell_type": "code",
   "execution_count": 19,
   "metadata": {
    "scrolled": true
   },
   "outputs": [
    {
     "data": {
      "text/plain": [
       "611"
      ]
     },
     "execution_count": 19,
     "metadata": {},
     "output_type": "execute_result"
    }
   ],
   "source": [
    "len(mutations_info['skin']) "
   ]
  },
  {
   "cell_type": "markdown",
   "metadata": {},
   "source": [
    "#### 4) Save table"
   ]
  },
  {
   "cell_type": "code",
   "execution_count": 20,
   "metadata": {
    "collapsed": true
   },
   "outputs": [],
   "source": [
    "header = [\n",
    "    'cancer_type',\n",
    "    'mutation_id',\n",
    "    'gene', \n",
    "    'aa_change', \n",
    "    'dna_change', \n",
    "    'driver_passenger', \n",
    "    'og_tsg', \n",
    "    'targeted_therapy',\n",
    "    'targeted_therapy_approved'\n",
    "]"
   ]
  },
  {
   "cell_type": "code",
   "execution_count": 21,
   "metadata": {
    "collapsed": true
   },
   "outputs": [],
   "source": [
    "with gzip.open(output_file, 'wt') as ofd: \n",
    "    ofd.write('{}\\n'.format('\\t'.join(header)))\n",
    "    for cancertype, mutations in mutations_info.items(): \n",
    "        for mutation_id, data in mutations.items(): \n",
    "            # FIXME targeted therapy\n",
    "            ofd.write('{}\\n'.format('\\t'.join([\n",
    "                cancertype, \n",
    "                mutation_id, \n",
    "                data['gene'],\n",
    "                data['aachange'],\n",
    "                data['nuchange'],\n",
    "                data['driver_passenger'],\n",
    "                data['og_tsg'],\n",
    "                data['targeted_therapy'], \n",
    "                str(data['targeted_therapy_approved']),\n",
    "            ])))"
   ]
  },
  {
   "cell_type": "code",
   "execution_count": 22,
   "metadata": {
    "collapsed": true
   },
   "outputs": [],
   "source": [
    "mutations_df = pd.read_csv(output_file, sep='\\t', header=0)"
   ]
  },
  {
   "cell_type": "code",
   "execution_count": 23,
   "metadata": {
    "scrolled": true
   },
   "outputs": [
    {
     "data": {
      "text/html": [
       "<div>\n",
       "<style scoped>\n",
       "    .dataframe tbody tr th:only-of-type {\n",
       "        vertical-align: middle;\n",
       "    }\n",
       "\n",
       "    .dataframe tbody tr th {\n",
       "        vertical-align: top;\n",
       "    }\n",
       "\n",
       "    .dataframe thead th {\n",
       "        text-align: right;\n",
       "    }\n",
       "</style>\n",
       "<table border=\"1\" class=\"dataframe\">\n",
       "  <thead>\n",
       "    <tr style=\"text-align: right;\">\n",
       "      <th></th>\n",
       "      <th>cancer_type</th>\n",
       "      <th>mutation_id</th>\n",
       "      <th>gene</th>\n",
       "      <th>aa_change</th>\n",
       "      <th>dna_change</th>\n",
       "      <th>driver_passenger</th>\n",
       "      <th>og_tsg</th>\n",
       "      <th>targeted_therapy</th>\n",
       "      <th>targeted_therapy_approved</th>\n",
       "    </tr>\n",
       "  </thead>\n",
       "  <tbody>\n",
       "    <tr>\n",
       "      <th>0</th>\n",
       "      <td>lung</td>\n",
       "      <td>FBXW7_R505P</td>\n",
       "      <td>FBXW7</td>\n",
       "      <td>R505P</td>\n",
       "      <td>chr4:152326136_C&gt;G</td>\n",
       "      <td>driver</td>\n",
       "      <td>tsg</td>\n",
       "      <td>None</td>\n",
       "      <td>False</td>\n",
       "    </tr>\n",
       "    <tr>\n",
       "      <th>1</th>\n",
       "      <td>lung</td>\n",
       "      <td>FAM135B_G186E</td>\n",
       "      <td>FAM135B</td>\n",
       "      <td>G186E</td>\n",
       "      <td>chr8:138243054_C&gt;T</td>\n",
       "      <td>driver</td>\n",
       "      <td>og</td>\n",
       "      <td>None</td>\n",
       "      <td>False</td>\n",
       "    </tr>\n",
       "    <tr>\n",
       "      <th>2</th>\n",
       "      <td>lung</td>\n",
       "      <td>ERBB3_C331R</td>\n",
       "      <td>ERBB3</td>\n",
       "      <td>C331R</td>\n",
       "      <td>chr12:56088750_T&gt;C</td>\n",
       "      <td>driver</td>\n",
       "      <td>og</td>\n",
       "      <td>None</td>\n",
       "      <td>False</td>\n",
       "    </tr>\n",
       "    <tr>\n",
       "      <th>3</th>\n",
       "      <td>lung</td>\n",
       "      <td>PTEN_R130G</td>\n",
       "      <td>PTEN</td>\n",
       "      <td>R130G</td>\n",
       "      <td>chr10:87933147_C&gt;G</td>\n",
       "      <td>driver</td>\n",
       "      <td>tsg</td>\n",
       "      <td>None</td>\n",
       "      <td>False</td>\n",
       "    </tr>\n",
       "    <tr>\n",
       "      <th>4</th>\n",
       "      <td>lung</td>\n",
       "      <td>PTEN_C136R</td>\n",
       "      <td>PTEN</td>\n",
       "      <td>C136R</td>\n",
       "      <td>chr10:87933165_T&gt;C</td>\n",
       "      <td>driver</td>\n",
       "      <td>tsg</td>\n",
       "      <td>None</td>\n",
       "      <td>False</td>\n",
       "    </tr>\n",
       "  </tbody>\n",
       "</table>\n",
       "</div>"
      ],
      "text/plain": [
       "  cancer_type    mutation_id     gene aa_change          dna_change  \\\n",
       "0        lung    FBXW7_R505P    FBXW7     R505P  chr4:152326136_C>G   \n",
       "1        lung  FAM135B_G186E  FAM135B     G186E  chr8:138243054_C>T   \n",
       "2        lung    ERBB3_C331R    ERBB3     C331R  chr12:56088750_T>C   \n",
       "3        lung     PTEN_R130G     PTEN     R130G  chr10:87933147_C>G   \n",
       "4        lung     PTEN_C136R     PTEN     C136R  chr10:87933165_T>C   \n",
       "\n",
       "  driver_passenger og_tsg targeted_therapy  targeted_therapy_approved  \n",
       "0           driver    tsg             None                      False  \n",
       "1           driver     og             None                      False  \n",
       "2           driver     og             None                      False  \n",
       "3           driver    tsg             None                      False  \n",
       "4           driver    tsg             None                      False  "
      ]
     },
     "execution_count": 23,
     "metadata": {},
     "output_type": "execute_result"
    }
   ],
   "source": [
    "mutations_df.head()"
   ]
  },
  {
   "cell_type": "code",
   "execution_count": 24,
   "metadata": {},
   "outputs": [
    {
     "data": {
      "text/plain": [
       "1"
      ]
     },
     "execution_count": 24,
     "metadata": {},
     "output_type": "execute_result"
    }
   ],
   "source": [
    "len(mutations_df.loc[mutations_df['targeted_therapy_approved'] == True]['mutation_id'].unique())"
   ]
  },
  {
   "cell_type": "code",
   "execution_count": null,
   "metadata": {
    "collapsed": true
   },
   "outputs": [],
   "source": []
  }
 ],
 "metadata": {
  "kernelspec": {
   "display_name": "Python [conda env:hotspots_framework]",
   "language": "python",
   "name": "conda-env-hotspots_framework-py"
  },
  "language_info": {
   "codemirror_mode": {
    "name": "ipython",
    "version": 3
   },
   "file_extension": ".py",
   "mimetype": "text/x-python",
   "name": "python",
   "nbconvert_exporter": "python",
   "pygments_lexer": "ipython3",
   "version": "3.6.10"
  }
 },
 "nbformat": 4,
 "nbformat_minor": 2
}
