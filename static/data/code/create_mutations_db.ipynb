{
 "cells": [
  {
   "cell_type": "markdown",
   "metadata": {},
   "source": [
    "# Create database of mutations"
   ]
  },
  {
   "cell_type": "code",
   "execution_count": 8,
   "metadata": {
    "collapsed": true
   },
   "outputs": [],
   "source": [
    "import os\n",
    "from collections import defaultdict\n",
    "\n",
    "import bgreference\n",
    "import pandas as pd"
   ]
  },
  {
   "cell_type": "markdown",
   "metadata": {},
   "source": [
    "#### Input files"
   ]
  },
  {
   "cell_type": "code",
   "execution_count": 2,
   "metadata": {
    "collapsed": true
   },
   "outputs": [],
   "source": [
    "boostdm_dir = './../boostDM/boostDM-intogen-prediction/'\n",
    "intogen_drivers_f = './../intogen/IntOGen-Drivers-20200201_Compendium_Cancer_Genes.tsv'\n",
    "intogen_negative_f = './../intogen/intOGen-20191022_Negative_gene_set.tsv'\n",
    "cgi_biomarkers_f = './../CGI/selected_biomarkers.csv'"
   ]
  },
  {
   "cell_type": "markdown",
   "metadata": {},
   "source": [
    "#### Output file"
   ]
  },
  {
   "cell_type": "code",
   "execution_count": 3,
   "metadata": {
    "collapsed": true
   },
   "outputs": [],
   "source": [
    "output_file = './mutations_db.tsv'"
   ]
  },
  {
   "cell_type": "code",
   "execution_count": 32,
   "metadata": {
    "collapsed": true
   },
   "outputs": [],
   "source": [
    "# FIXME update names\n",
    "header = [\n",
    "    'cancer_type',\n",
    "    'mutation_id',\n",
    "    'gene', \n",
    "    'aa_change', \n",
    "    'dna_change', \n",
    "    'driver_passenger', \n",
    "    'og_tsg', \n",
    "    'targeted_therapy'\n",
    "]"
   ]
  },
  {
   "cell_type": "markdown",
   "metadata": {},
   "source": [
    "#### Other input data"
   ]
  },
  {
   "cell_type": "code",
   "execution_count": 4,
   "metadata": {
    "collapsed": true
   },
   "outputs": [],
   "source": [
    "cancer_types = {\n",
    "    'skin': ['CM', 'SCCC', 'SBCC'], \n",
    "    'lung': ['NSCLC', 'LUSC', 'LUAD', 'SCLC']\n",
    "}"
   ]
  },
  {
   "cell_type": "code",
   "execution_count": 5,
   "metadata": {
    "collapsed": true
   },
   "outputs": [],
   "source": [
    "cancer_types = dict([(ct_specific, ct_general) for ct_general, v in cancer_types.items() for ct_specific in list(v)])"
   ]
  },
  {
   "cell_type": "code",
   "execution_count": 6,
   "metadata": {
    "scrolled": true
   },
   "outputs": [
    {
     "data": {
      "text/plain": [
       "{'CM': 'skin',\n",
       " 'SCCC': 'skin',\n",
       " 'SBCC': 'skin',\n",
       " 'NSCLC': 'lung',\n",
       " 'LUSC': 'lung',\n",
       " 'LUAD': 'lung',\n",
       " 'SCLC': 'lung'}"
      ]
     },
     "execution_count": 6,
     "metadata": {},
     "output_type": "execute_result"
    }
   ],
   "source": [
    "cancer_types"
   ]
  },
  {
   "cell_type": "markdown",
   "metadata": {},
   "source": [
    "## Mutations DB"
   ]
  },
  {
   "cell_type": "code",
   "execution_count": 57,
   "metadata": {
    "collapsed": true
   },
   "outputs": [],
   "source": [
    "# Object to load\n",
    "mutations_info = defaultdict(lambda: defaultdict(dict))"
   ]
  },
  {
   "cell_type": "markdown",
   "metadata": {},
   "source": [
    "#### 1) Load CGI biomarkers"
   ]
  },
  {
   "cell_type": "code",
   "execution_count": 58,
   "metadata": {
    "collapsed": true
   },
   "outputs": [],
   "source": [
    "biomarkers_df = pd.read_csv(cgi_biomarkers_f, sep='\\t', header=0)"
   ]
  },
  {
   "cell_type": "code",
   "execution_count": 59,
   "metadata": {
    "collapsed": true
   },
   "outputs": [],
   "source": [
    "biomarkers_df['cancer_type_general'] = biomarkers_df.apply(lambda x: cancer_types.get(x['Primary Tumor type'], 'NAN'), axis=1)"
   ]
  },
  {
   "cell_type": "code",
   "execution_count": 60,
   "metadata": {
    "scrolled": true
   },
   "outputs": [
    {
     "data": {
      "text/html": [
       "<div>\n",
       "<style scoped>\n",
       "    .dataframe tbody tr th:only-of-type {\n",
       "        vertical-align: middle;\n",
       "    }\n",
       "\n",
       "    .dataframe tbody tr th {\n",
       "        vertical-align: top;\n",
       "    }\n",
       "\n",
       "    .dataframe thead th {\n",
       "        text-align: right;\n",
       "    }\n",
       "</style>\n",
       "<table border=\"1\" class=\"dataframe\">\n",
       "  <thead>\n",
       "    <tr style=\"text-align: right;\">\n",
       "      <th></th>\n",
       "      <th>Biomarker</th>\n",
       "      <th>Gene</th>\n",
       "      <th>Alteration</th>\n",
       "      <th>Drug</th>\n",
       "      <th>Primary Tumor type</th>\n",
       "      <th>Inhibitor type</th>\n",
       "      <th>cancer_type_general</th>\n",
       "    </tr>\n",
       "  </thead>\n",
       "  <tbody>\n",
       "    <tr>\n",
       "      <th>0</th>\n",
       "      <td>ALK_F1174L</td>\n",
       "      <td>ALK</td>\n",
       "      <td>F1174L</td>\n",
       "      <td>NaN</td>\n",
       "      <td>LUAD</td>\n",
       "      <td>novel ALK inhibitors</td>\n",
       "      <td>lung</td>\n",
       "    </tr>\n",
       "    <tr>\n",
       "      <th>1</th>\n",
       "      <td>ALK_E1408V</td>\n",
       "      <td>ALK</td>\n",
       "      <td>E1408V</td>\n",
       "      <td>Brigatinib</td>\n",
       "      <td>LUAD</td>\n",
       "      <td>Pan-TK inhibitor</td>\n",
       "      <td>lung</td>\n",
       "    </tr>\n",
       "    <tr>\n",
       "      <th>2</th>\n",
       "      <td>ALK_L1196M</td>\n",
       "      <td>ALK</td>\n",
       "      <td>L1196M</td>\n",
       "      <td>Brigatinib</td>\n",
       "      <td>LUAD</td>\n",
       "      <td>Pan-TK inhibitor</td>\n",
       "      <td>lung</td>\n",
       "    </tr>\n",
       "    <tr>\n",
       "      <th>3</th>\n",
       "      <td>ALK_L1196M</td>\n",
       "      <td>ALK</td>\n",
       "      <td>L1196M</td>\n",
       "      <td>Ceritinib</td>\n",
       "      <td>LUAD</td>\n",
       "      <td>ALK inhibitor</td>\n",
       "      <td>lung</td>\n",
       "    </tr>\n",
       "    <tr>\n",
       "      <th>4</th>\n",
       "      <td>ALK_S1206Y</td>\n",
       "      <td>ALK</td>\n",
       "      <td>S1206Y</td>\n",
       "      <td>Ceritinib</td>\n",
       "      <td>LUAD</td>\n",
       "      <td>ALK inhibitor</td>\n",
       "      <td>lung</td>\n",
       "    </tr>\n",
       "  </tbody>\n",
       "</table>\n",
       "</div>"
      ],
      "text/plain": [
       "    Biomarker Gene Alteration        Drug Primary Tumor type  \\\n",
       "0  ALK_F1174L  ALK     F1174L         NaN               LUAD   \n",
       "1  ALK_E1408V  ALK     E1408V  Brigatinib               LUAD   \n",
       "2  ALK_L1196M  ALK     L1196M  Brigatinib               LUAD   \n",
       "3  ALK_L1196M  ALK     L1196M   Ceritinib               LUAD   \n",
       "4  ALK_S1206Y  ALK     S1206Y   Ceritinib               LUAD   \n",
       "\n",
       "         Inhibitor type cancer_type_general  \n",
       "0  novel ALK inhibitors                lung  \n",
       "1      Pan-TK inhibitor                lung  \n",
       "2      Pan-TK inhibitor                lung  \n",
       "3         ALK inhibitor                lung  \n",
       "4         ALK inhibitor                lung  "
      ]
     },
     "execution_count": 60,
     "metadata": {},
     "output_type": "execute_result"
    }
   ],
   "source": [
    "biomarkers_df.head()"
   ]
  },
  {
   "cell_type": "markdown",
   "metadata": {},
   "source": [
    "#### 2) Get driver mutations from boostDM"
   ]
  },
  {
   "cell_type": "markdown",
   "metadata": {},
   "source": [
    "Comments: \n",
    "    \n",
    "- Truncating mutations are skipped\n",
    "- Mutations with AA change not available (nan) are skipped\n",
    "- Biomarkers with unkwown drug are labeled as therapy 'None'"
   ]
  },
  {
   "cell_type": "code",
   "execution_count": 68,
   "metadata": {},
   "outputs": [],
   "source": [
    "# Identify cohorts with the cancer_types of interest\n",
    "for file in os.scandir(boostdm_dir): \n",
    "    if file.name.split('.')[1] in set(cancer_types.keys()): \n",
    "        \n",
    "        # Cancer type in data \n",
    "        cancer_type_specific = file.name.split('.')[1]\n",
    "        cancer_type_general = cancer_types[cancer_type_specific]\n",
    "        \n",
    "        # Read df\n",
    "        df = pd.read_csv(file.path, sep='\\t', header=0)\n",
    "        \n",
    "        # Subset driver mutations\n",
    "        df_drivers = df.loc[df['boostDM_class'] == True].copy()\n",
    "        median_boostdm_score = df_drivers['boostDM_score'].describe()['50%']\n",
    "        \n",
    "        # Save information\n",
    "        for _, row in df_drivers.iterrows(): \n",
    "            \n",
    "            # If missense mutation \n",
    "            # If BoostDM score above the median (higher driver evidence)\n",
    "            if row['csqn_type_missense'] and row['boostDM_score'] >= median_boostdm_score: \n",
    "                \n",
    "                # If AA change is not nan\n",
    "                if row['aachange'] == row['aachange']: \n",
    "                                                                      \n",
    "                    # Mutation id (BRAF_V600E)\n",
    "                    mutation_id = f\"{row['gene']}_{row['aachange']}\"\n",
    "                    \n",
    "                    # Gene\n",
    "                    mutations_info[cancer_type_general][mutation_id]['gene'] = row['gene']\n",
    "                    \n",
    "                    # Cancer type\n",
    "                    mutations_info[cancer_type_general][mutation_id]['cancer_type_specific'] = cancer_type_specific\n",
    "                    mutations_info[cancer_type_general][mutation_id]['cancer_type_general'] = cancer_type_general\n",
    "                    \n",
    "                    # AA change\n",
    "                    mutations_info[cancer_type_general][mutation_id]['aachange'] = row['aachange']\n",
    "                   \n",
    "                    # Nucleotide change\n",
    "                    chrom = row['chr']\n",
    "                    pos = row['pos']\n",
    "                    ref = bgreference.refseq('hg38', chrom, pos, 1)\n",
    "                    alt = row['alt']\n",
    "                    mutations_info[cancer_type_general][mutation_id]['nuchange'] = f'{chrom}:{pos}_{ref}>{alt}'\n",
    "                    \n",
    "                    # Driver or passenger\n",
    "                    mutations_info[cancer_type_general][mutation_id]['driver_passenger'] = 'driver'\n",
    "                    \n",
    "                    # Oncogene or tumor suppresor gene\n",
    "                    if row['role_Act'] == 1: \n",
    "                        role = 'og'\n",
    "                    elif row['role_LoF'] == 1: \n",
    "                        role = 'tsg'\n",
    "                    else:\n",
    "                        role = 'unknown'\n",
    "                    mutations_info[cancer_type_general][mutation_id]['og_tsg'] = role\n",
    "                    \n",
    "                    # Targeted therapy\n",
    "                    # Select mutation in the cancer type\n",
    "                    biomarker_info_df = biomarkers_df.loc[\n",
    "                        (biomarkers_df['Biomarker'] == mutation_id) & \n",
    "                        (biomarkers_df['cancer_type_general'] == cancer_type_general)\n",
    "                    ]\n",
    "                    # If mutation is biomarker\n",
    "                    if len(biomarker_info_df) > 0: \n",
    "                        # If the drug field (should be unique) is not nan\n",
    "                        if biomarker_info_df['Drug'].iloc[0] == biomarker_info_df['Drug'].iloc[0]: \n",
    "                            mutations_info[cancer_type_general][mutation_id]['targeted_therapy'] = biomarker_info_df['Drug'].iloc[0]\n",
    "                    else: \n",
    "                        mutations_info[cancer_type_general][mutation_id]['targeted_therapy'] = 'None'\n",
    "                    # Drug is approved or not\n",
    "                    # TODO add"
   ]
  },
  {
   "cell_type": "code",
   "execution_count": 69,
   "metadata": {},
   "outputs": [
    {
     "data": {
      "text/plain": [
       "529"
      ]
     },
     "execution_count": 69,
     "metadata": {},
     "output_type": "execute_result"
    }
   ],
   "source": [
    "len(mutations_info['lung']) # 5334"
   ]
  },
  {
   "cell_type": "code",
   "execution_count": 70,
   "metadata": {
    "scrolled": true
   },
   "outputs": [
    {
     "data": {
      "text/plain": [
       "515"
      ]
     },
     "execution_count": 70,
     "metadata": {},
     "output_type": "execute_result"
    }
   ],
   "source": [
    "len(mutations_info['skin']) #3642"
   ]
  },
  {
   "cell_type": "markdown",
   "metadata": {},
   "source": [
    "#### 3) Get passenger mutations from negative genes in intOGen"
   ]
  },
  {
   "cell_type": "markdown",
   "metadata": {},
   "source": [
    "Comments: \n",
    "    \n",
    "- "
   ]
  },
  {
   "cell_type": "code",
   "execution_count": 84,
   "metadata": {
    "scrolled": true
   },
   "outputs": [],
   "source": [
    "negatives_df = pd.read_csv(intogen_negative_f, sep='\\t', header=None)"
   ]
  }
 ],
 "metadata": {
  "kernelspec": {
   "display_name": "Python [conda env:hotspots_framework]",
   "language": "python",
   "name": "conda-env-hotspots_framework-py"
  },
  "language_info": {
   "codemirror_mode": {
    "name": "ipython",
    "version": 3
   },
   "file_extension": ".py",
   "mimetype": "text/x-python",
   "name": "python",
   "nbconvert_exporter": "python",
   "pygments_lexer": "ipython3",
   "version": "3.6.10"
  }
 },
 "nbformat": 4,
 "nbformat_minor": 2
}
