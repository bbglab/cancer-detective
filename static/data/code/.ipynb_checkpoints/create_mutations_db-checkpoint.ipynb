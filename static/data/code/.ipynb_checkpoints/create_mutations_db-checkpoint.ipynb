{
 "cells": [
  {
   "cell_type": "markdown",
   "metadata": {},
   "source": [
    "# Create database of mutations"
   ]
  },
  {
   "cell_type": "code",
   "execution_count": 1,
   "metadata": {
    "collapsed": true
   },
   "outputs": [],
   "source": [
    "import os\n",
    "\n",
    "import bgreference\n",
    "import pandas as pd"
   ]
  },
  {
   "cell_type": "markdown",
   "metadata": {},
   "source": [
    "#### Input files"
   ]
  },
  {
   "cell_type": "code",
   "execution_count": 2,
   "metadata": {
    "collapsed": true
   },
   "outputs": [],
   "source": [
    "boostdm_dir = './../boostDM/boostDM-intogen-prediction/'\n",
    "intogen_drivers_f = './../intogen/IntOGen-Drivers-20200201_Compendium_Cancer_Genes.tsv'\n",
    "intogen_negative_f = './../intogen/intOGen-20191022_Negative_gene_set.tsv'\n",
    "cgi_biomarkers_f = './../CGI/selected_biomarkers.csv'"
   ]
  },
  {
   "cell_type": "markdown",
   "metadata": {},
   "source": [
    "#### Output file"
   ]
  },
  {
   "cell_type": "code",
   "execution_count": 3,
   "metadata": {
    "collapsed": true
   },
   "outputs": [],
   "source": [
    "output_file = './mutations_db.tsv'"
   ]
  },
  {
   "cell_type": "code",
   "execution_count": 32,
   "metadata": {
    "collapsed": true
   },
   "outputs": [],
   "source": [
    "# FIXME update names\n",
    "header = [\n",
    "    'cancer_type',\n",
    "    'mutation_id',\n",
    "    'gene', \n",
    "    'aa_change', \n",
    "    'dna_change', \n",
    "    'driver_passenger', \n",
    "    'og_tsg', \n",
    "    'targeted_therapy'\n",
    "]"
   ]
  },
  {
   "cell_type": "markdown",
   "metadata": {},
   "source": [
    "#### Other input data"
   ]
  },
  {
   "cell_type": "code",
   "execution_count": 5,
   "metadata": {
    "collapsed": true
   },
   "outputs": [],
   "source": [
    "cancer_types = {\n",
    "    'skin': ['CM', 'SCCC', 'SBCC'], \n",
    "    'lung': ['NSCLC', 'LUSC', 'LUAD', 'SCLC']\n",
    "}"
   ]
  },
  {
   "cell_type": "code",
   "execution_count": 6,
   "metadata": {
    "collapsed": true
   },
   "outputs": [],
   "source": [
    "cancer_types = dict([(ct_specific, ct_general) for ct_general, v in cancer_types.items() for ct_specific in list(v)])"
   ]
  },
  {
   "cell_type": "code",
   "execution_count": 7,
   "metadata": {
    "scrolled": true
   },
   "outputs": [
    {
     "data": {
      "text/plain": [
       "{'CM': 'skin',\n",
       " 'SCCC': 'skin',\n",
       " 'SBCC': 'skin',\n",
       " 'NSCLC': 'lung',\n",
       " 'LUSC': 'lung',\n",
       " 'LUAD': 'lung',\n",
       " 'SCLC': 'lung'}"
      ]
     },
     "execution_count": 7,
     "metadata": {},
     "output_type": "execute_result"
    }
   ],
   "source": [
    "cancer_types"
   ]
  },
  {
   "cell_type": "markdown",
   "metadata": {},
   "source": [
    "## Mutations DB"
   ]
  },
  {
   "cell_type": "code",
   "execution_count": 63,
   "metadata": {
    "collapsed": true
   },
   "outputs": [],
   "source": [
    "# Object to load\n",
    "mutations_info = dict()\n",
    "mutations_info['skin'] = dict()\n",
    "mutations_info['lung'] = dict()"
   ]
  },
  {
   "cell_type": "markdown",
   "metadata": {},
   "source": [
    "1) Load CGI biomarkers"
   ]
  },
  {
   "cell_type": "code",
   "execution_count": 64,
   "metadata": {},
   "outputs": [],
   "source": [
    "biomarkers_df = pd.read_csv(cgi_biomarkers_f, sep='\\t', header=0)"
   ]
  },
  {
   "cell_type": "code",
   "execution_count": 65,
   "metadata": {},
   "outputs": [],
   "source": [
    "biomarkers_df['cancer_type_general'] = biomarkers_df.apply(lambda x: cancer_types.get(x['Primary Tumor type'], 'NAN'), axis=1)"
   ]
  },
  {
   "cell_type": "code",
   "execution_count": 66,
   "metadata": {
    "scrolled": true
   },
   "outputs": [
    {
     "data": {
      "text/html": [
       "<div>\n",
       "<style scoped>\n",
       "    .dataframe tbody tr th:only-of-type {\n",
       "        vertical-align: middle;\n",
       "    }\n",
       "\n",
       "    .dataframe tbody tr th {\n",
       "        vertical-align: top;\n",
       "    }\n",
       "\n",
       "    .dataframe thead th {\n",
       "        text-align: right;\n",
       "    }\n",
       "</style>\n",
       "<table border=\"1\" class=\"dataframe\">\n",
       "  <thead>\n",
       "    <tr style=\"text-align: right;\">\n",
       "      <th></th>\n",
       "      <th>Biomarker</th>\n",
       "      <th>Gene</th>\n",
       "      <th>Alteration</th>\n",
       "      <th>Drug</th>\n",
       "      <th>Primary Tumor type</th>\n",
       "      <th>Inhibitor type</th>\n",
       "      <th>cancer_type_general</th>\n",
       "    </tr>\n",
       "  </thead>\n",
       "  <tbody>\n",
       "    <tr>\n",
       "      <th>0</th>\n",
       "      <td>ALK_F1174L</td>\n",
       "      <td>ALK</td>\n",
       "      <td>F1174L</td>\n",
       "      <td>NaN</td>\n",
       "      <td>LUAD</td>\n",
       "      <td>novel ALK inhibitors</td>\n",
       "      <td>lung</td>\n",
       "    </tr>\n",
       "    <tr>\n",
       "      <th>1</th>\n",
       "      <td>ALK_E1408V</td>\n",
       "      <td>ALK</td>\n",
       "      <td>E1408V</td>\n",
       "      <td>Brigatinib</td>\n",
       "      <td>LUAD</td>\n",
       "      <td>Pan-TK inhibitor</td>\n",
       "      <td>lung</td>\n",
       "    </tr>\n",
       "    <tr>\n",
       "      <th>2</th>\n",
       "      <td>ALK_L1196M</td>\n",
       "      <td>ALK</td>\n",
       "      <td>L1196M</td>\n",
       "      <td>Brigatinib</td>\n",
       "      <td>LUAD</td>\n",
       "      <td>Pan-TK inhibitor</td>\n",
       "      <td>lung</td>\n",
       "    </tr>\n",
       "    <tr>\n",
       "      <th>3</th>\n",
       "      <td>ALK_L1196M</td>\n",
       "      <td>ALK</td>\n",
       "      <td>L1196M</td>\n",
       "      <td>Ceritinib</td>\n",
       "      <td>LUAD</td>\n",
       "      <td>ALK inhibitor</td>\n",
       "      <td>lung</td>\n",
       "    </tr>\n",
       "    <tr>\n",
       "      <th>4</th>\n",
       "      <td>ALK_S1206Y</td>\n",
       "      <td>ALK</td>\n",
       "      <td>S1206Y</td>\n",
       "      <td>Ceritinib</td>\n",
       "      <td>LUAD</td>\n",
       "      <td>ALK inhibitor</td>\n",
       "      <td>lung</td>\n",
       "    </tr>\n",
       "  </tbody>\n",
       "</table>\n",
       "</div>"
      ],
      "text/plain": [
       "    Biomarker Gene Alteration        Drug Primary Tumor type  \\\n",
       "0  ALK_F1174L  ALK     F1174L         NaN               LUAD   \n",
       "1  ALK_E1408V  ALK     E1408V  Brigatinib               LUAD   \n",
       "2  ALK_L1196M  ALK     L1196M  Brigatinib               LUAD   \n",
       "3  ALK_L1196M  ALK     L1196M   Ceritinib               LUAD   \n",
       "4  ALK_S1206Y  ALK     S1206Y   Ceritinib               LUAD   \n",
       "\n",
       "         Inhibitor type cancer_type_general  \n",
       "0  novel ALK inhibitors                lung  \n",
       "1      Pan-TK inhibitor                lung  \n",
       "2      Pan-TK inhibitor                lung  \n",
       "3         ALK inhibitor                lung  \n",
       "4         ALK inhibitor                lung  "
      ]
     },
     "execution_count": 66,
     "metadata": {},
     "output_type": "execute_result"
    }
   ],
   "source": [
    "biomarkers_df.head()"
   ]
  },
  {
   "cell_type": "markdown",
   "metadata": {},
   "source": [
    "2) Get driver mutations from boostDM"
   ]
  },
  {
   "cell_type": "code",
   "execution_count": 67,
   "metadata": {},
   "outputs": [],
   "source": [
    "# Identify cohorts with the cancer_types of interest\n",
    "for file in os.scandir(boostdm_dir): \n",
    "    if file.name.split('.')[1] in set(cancer_types.keys()): \n",
    "        \n",
    "        # Cancer type in data \n",
    "        cancer_type_specific = file.name.split('.')[1]\n",
    "        cancer_type_general = cancer_types[cancer_type_specific]\n",
    "        \n",
    "        # Read df\n",
    "        df = pd.read_csv(file.path, sep='\\t', header=0)\n",
    "        \n",
    "        # Subset driver mutations\n",
    "        df_drivers = df.loc[df['boostDM_class'] == True].copy()\n",
    "        \n",
    "        # Save information\n",
    "        for _, row in df_drivers.iterrows(): \n",
    "            # Mutation id (BRAF_V600E)\n",
    "            mutation_id = f\"{row['gene']}_{row['aachange']}\"\n",
    "            mutations_info[cancer_type_general][mutation_id] = {}\n",
    "            # Gene\n",
    "            mutations_info[cancer_type_general][mutation_id]['gene'] = row['gene']\n",
    "            # Cancer type\n",
    "            mutations_info[cancer_type_general][mutation_id]['cancer_type_specific'] = cancer_type_specific\n",
    "            mutations_info[cancer_type_general][mutation_id]['cancer_type_general'] = cancer_type_general\n",
    "            # AA change\n",
    "            mutations_info[cancer_type_general][mutation_id]['aachange'] = row['aachange']\n",
    "            # Nucleotide change\n",
    "            chrom = row['chr']\n",
    "            pos = row['pos']\n",
    "            ref = bgreference.refseq('hg38', chrom, pos, 1)\n",
    "            alt = row['alt']\n",
    "            mutations_info[cancer_type_general][mutation_id]['nuchange'] = f'{chrom}:{pos}_{ref}>{alt}'\n",
    "            # Driver or passenger\n",
    "            mutations_info[cancer_type_general][mutation_id]['driver_passenger'] = 'driver'\n",
    "            # Oncogene or tumor suppresor gene\n",
    "            if row['role_Act'] == 1: \n",
    "                role = 'og'\n",
    "            elif row['role_LoF'] == 1: \n",
    "                role = 'tsg'\n",
    "            else:\n",
    "                role = 'unknown'\n",
    "            mutations_info[cancer_type_general][mutation_id]['og_tsg'] = role\n",
    "            # Targeted therapy\n",
    "            biomarker_info_df = biomarkers_df.loc[\n",
    "                (biomarkers_df['Biomarker'] == mutation_id) & (biomarkers_df['cancer_type_general'] == cancer_type_general)\n",
    "            ]\n",
    "            if len(biomarker_info_df) > 0: \n",
    "                mutations_info[cancer_type_general][mutation_id]['targeted_therapy'] = biomarker_info_df['Drug'].iloc[0]\n",
    "#                 if biomarker_info_df['Drug'].iloc[0] == biomarker_info_df['Drug'].iloc[0]: \n",
    "#                     print(mutations_info[mutation_id])\n",
    "                \n",
    "            else: \n",
    "                mutations_info[cancer_type_general][mutation_id]['targeted_therapy'] = 'None'    "
   ]
  },
  {
   "cell_type": "markdown",
   "metadata": {},
   "source": [
    "Comments: \n",
    "    \n",
    "- BRD7_Q589* is truncating? Then biomarkers add also nonsense mutations?\n",
    "- Need to remove nan aachange: RPS6KA3_nan\n",
    "- Some drugs have more than one therapy per cancer type\n",
    "- Add LUSC, NSCLC in biomarkers\n",
    "- Add drug approved or not (binary info, like approved or under research?)\n",
    "- Add example of drug name in those cases where Inhibitor type is present but drug is missing"
   ]
  },
  {
   "cell_type": "code",
   "execution_count": 69,
   "metadata": {},
   "outputs": [
    {
     "data": {
      "text/plain": [
       "5334"
      ]
     },
     "execution_count": 69,
     "metadata": {},
     "output_type": "execute_result"
    }
   ],
   "source": [
    "len(mutations_info['lung'])"
   ]
  },
  {
   "cell_type": "code",
   "execution_count": 70,
   "metadata": {},
   "outputs": [
    {
     "data": {
      "text/plain": [
       "3642"
      ]
     },
     "execution_count": 70,
     "metadata": {},
     "output_type": "execute_result"
    }
   ],
   "source": [
    "len(mutations_info['skin'])"
   ]
  }
 ],
 "metadata": {
  "kernelspec": {
   "display_name": "Python [conda env:hotspots_framework]",
   "language": "python",
   "name": "conda-env-hotspots_framework-py"
  },
  "language_info": {
   "codemirror_mode": {
    "name": "ipython",
    "version": 3
   },
   "file_extension": ".py",
   "mimetype": "text/x-python",
   "name": "python",
   "nbconvert_exporter": "python",
   "pygments_lexer": "ipython3",
   "version": "3.6.10"
  }
 },
 "nbformat": 4,
 "nbformat_minor": 2
}
