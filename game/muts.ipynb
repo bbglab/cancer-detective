{
 "cells": [
  {
   "cell_type": "code",
   "execution_count": 1,
   "metadata": {},
   "outputs": [],
   "source": [
    "import functools\n",
    "import random\n",
    "\n",
    "ALT_COLOR_MAP = {'C>A': '#1fbdef',\n",
    "                 'C>G': '#0d1011',\n",
    "                 'C>T': '#e52b29',\n",
    "                 'T>A': '#cac8ca',\n",
    "                 'T>C': '#a0cd64',\n",
    "                 'T>G': '#ecc6c3'}\n",
    "\n",
    "\n",
    "PASSENGERS = ['APP', 'BUB3', 'ELN', 'GDF11', 'HDAC3', 'HSP90AA1', 'IKBKB', 'MAPK14',\n",
    "              'MT-CO1', 'NFKBIA', 'POU1F1', 'PPARGC1A', 'RECQL4', 'TOP2B',\n",
    "              'VEGFA', 'YWHAZ']\n",
    "\n",
    "\n",
    "class Mela:\n",
    "    alts = ['C>A'] * 6 + ['C>G'] * 6 + ['C>T'] * 70 + ['T>A'] * 6 + ['T>C'] * 6 + ['T>G'] * 6\n",
    "    drivers = ['BRAF', 'NRAS', 'ANK3', 'MLL3', 'BAP1', 'CDKN2A', 'SVEP1', 'MECOM', 'MAP2K1', 'NF1']\n",
    "    passengers = PASSENGERS\n",
    "    driver_drug_map = {'BRAF': 'Sorafenib', 'NRAS': 'MEK inhibitors', 'ANK3': '',\n",
    "                       'MLL3': '', 'BAP1': 'HDAC inhibitors', 'CDKN2A': 'CDK4/6 inhibitors',\n",
    "                       'SVEP1': '', 'MECOM': '', 'MAP2K1': 'ERK inhibitors',\n",
    "                       'NF1': 'PD1 Ab inhibitors'}\n",
    "\n",
    "\n",
    "class Lung:\n",
    "    alts = ['C>A'] * 50 + ['C>G'] * 11 + ['C>T'] * 11 + ['T>A'] * 11 + ['T>C'] * 11 + ['T>G'] * 6\n",
    "    drivers = ['TP53', 'EGFR', 'MLL2', 'FGFR2', 'PIK3CA', 'CDKN2A', 'NF1', 'PTEN', 'NOTCH1', 'ARID1A', 'RB1']\n",
    "    passengers = PASSENGERS\n",
    "    driver_drug_map = {'TP53': 'HSP90 inhibitors', 'EGFR': 'Erlotinib', 'MLL2': 'Bicalutamide',\n",
    "                       'FGFR2': 'FGFR inhibitors', 'PIK3CA': '', 'CDKN2A': 'Ilorasertib',\n",
    "                       'NF1': '', 'PTEN': 'Sirolimus', 'NOTCH1': 'OMP-52M51',\n",
    "                       'ARID1A': 'ATR inhibitors', 'RB1': '',\n",
    "                       'DDR2': 'Dasatinib', 'EPHA2': 'MTOR inhibitors'}\n",
    "\n",
    "\n",
    "MELA = Mela()\n",
    "LUNG = Lung()\n",
    "\n",
    "\n",
    "@functools.lru_cache(50)\n",
    "def get(ttype, n, code=None):\n",
    "    '''Function to get the results with the mutations\n",
    "    input: 'ttype', tumor type, 'lung' or 'skin';\n",
    "            'n', number of...;\n",
    "            'code',?;\n",
    "    output: 'result', list with genes, mutations and treatment '''\n",
    "\n",
    "    if ttype == 'skin':\n",
    "        cancer = MELA\n",
    "    elif ttype == 'lung':  # lung\n",
    "        cancer = LUNG\n",
    "    else:\n",
    "        raise NotImplementedError\n",
    "\n",
    "    result = []\n",
    "    for i in range(n-1):\n",
    "        d = {'id': i}\n",
    "\n",
    "        # 30% change to be a driver except for the 1st (to ensure, at least, 1 driver)\n",
    "        driver = True if i == 0 else random.random() >= 0.7\n",
    "\n",
    "        if driver:\n",
    "            d['driver'] = True\n",
    "            gene = random.choice(cancer.drivers)\n",
    "            d['gene'] = gene\n",
    "            d['drug'] = cancer.driver_drug_map[gene]\n",
    "        else:\n",
    "            d['gene'] = random.choice(cancer.passengers)\n",
    "\n",
    "        alt = random.choice(cancer.alts)\n",
    "        d['alt'] = alt\n",
    "        d['color'] = ALT_COLOR_MAP[alt]\n",
    "\n",
    "        result.append(d)\n",
    "\n",
    "    return result\n"
   ]
  },
  {
   "cell_type": "code",
   "execution_count": 5,
   "metadata": {},
   "outputs": [
    {
     "data": {
      "text/plain": [
       "[{'id': 0,\n",
       "  'driver': True,\n",
       "  'gene': 'MECOM',\n",
       "  'drug': '',\n",
       "  'alt': 'C>T',\n",
       "  'color': '#e52b29'},\n",
       " {'id': 1, 'gene': 'RECQL4', 'alt': 'C>T', 'color': '#e52b29'},\n",
       " {'id': 2, 'gene': 'ELN', 'alt': 'C>T', 'color': '#e52b29'},\n",
       " {'id': 3,\n",
       "  'driver': True,\n",
       "  'gene': 'NRAS',\n",
       "  'drug': 'MEK inhibitors',\n",
       "  'alt': 'C>T',\n",
       "  'color': '#e52b29'},\n",
       " {'id': 4, 'gene': 'VEGFA', 'alt': 'C>T', 'color': '#e52b29'}]"
      ]
     },
     "execution_count": 5,
     "metadata": {},
     "output_type": "execute_result"
    }
   ],
   "source": [
    "get(ttype='skin',n=6)"
   ]
  },
  {
   "cell_type": "code",
   "execution_count": null,
   "metadata": {},
   "outputs": [],
   "source": [
    "df = "
   ]
  }
 ],
 "metadata": {
  "kernelspec": {
   "display_name": "game",
   "language": "python",
   "name": "game"
  },
  "language_info": {
   "codemirror_mode": {
    "name": "ipython",
    "version": 3
   },
   "file_extension": ".py",
   "mimetype": "text/x-python",
   "name": "python",
   "nbconvert_exporter": "python",
   "pygments_lexer": "ipython3",
   "version": "3.7.9"
  }
 },
 "nbformat": 4,
 "nbformat_minor": 4
}
